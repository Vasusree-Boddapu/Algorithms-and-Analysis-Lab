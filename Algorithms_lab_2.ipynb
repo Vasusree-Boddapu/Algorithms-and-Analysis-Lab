{
  "nbformat": 4,
  "nbformat_minor": 0,
  "metadata": {
    "colab": {
      "provenance": []
    },
    "kernelspec": {
      "name": "python3",
      "display_name": "Python 3"
    },
    "language_info": {
      "name": "python"
    }
  },
  "cells": [
    {
      "cell_type": "code",
      "execution_count": null,
      "metadata": {
        "colab": {
          "base_uri": "https://localhost:8080/"
        },
        "id": "yfIHqlv8OmoM",
        "outputId": "549d6f4f-90d0-4eb4-9aad-224875edbbc6"
      },
      "outputs": [
        {
          "output_type": "stream",
          "name": "stdout",
          "text": [
            "Original data: [45, 32, 16, 84, 76, 1, 19]\n",
            "Sorted Array:\n",
            "[1, 16, 19, 32, 45, 76, 84]\n"
          ]
        }
      ],
      "source": [
        "# Insertion sort in Python\n",
        "def insertionSort(array):\n",
        "    for step in range(1, len(array)):\n",
        "        key = array[step]\n",
        "        j = step - 1\n",
        "        while j >= 0 and key < array[j]:\n",
        "            array[j + 1] = array[j]\n",
        "            j = j - 1\n",
        "        array[j + 1] = key\n",
        "\n",
        "\n",
        "data = [45,32,16,84,76,1,19]\n",
        "print(f\"Original data: {data}\")\n",
        "insertionSort(data)\n",
        "print('Sorted Array:')\n",
        "print(data)"
      ]
    },
    {
      "cell_type": "code",
      "source": [
        "#stack Implementation\n",
        "n = 3\n",
        "top = -1\n",
        "stack = [None]*n\n",
        "def push(item):\n",
        "     global top\n",
        "     if top >= n-1:\n",
        "         print(\"stack is full\")\n",
        "     else:\n",
        "         top += 1\n",
        "         stack[top] = item\n",
        "         print(f\"pushed item onto the stack:{item}\")\n",
        "\n",
        "def pop():\n",
        "    global top\n",
        "    if top == -1:\n",
        "        return\"stack is empty\"\n",
        "    else:\n",
        "        item = stack[top]\n",
        "        print(f\"Removed ftom top: {item}\")\n",
        "        top -= 1\n",
        "        return item\n",
        "\n",
        "def display_stack():\n",
        "    if top == -1:\n",
        "        print(\"stack is empty\")\n",
        "    else:\n",
        "        print(\"Stack elements (top to bottom) are:\")\n",
        "        for i in range(top, -1, -1):\n",
        "            print(stack[i])\n",
        "\n",
        "display_stack()\n",
        "push(10)\n",
        "push(20)\n",
        "push(30)\n",
        "push(40)\n",
        "display_stack()\n",
        "popped_item = pop()\n",
        "print(f\"popped item:{popped_item}\")\n",
        "display_stack()\n",
        "pop()\n",
        "display_stack()"
      ],
      "metadata": {
        "colab": {
          "base_uri": "https://localhost:8080/"
        },
        "id": "w4fq8rihPZzZ",
        "outputId": "ae33e976-06af-4a69-c0a8-43cd2cbc521b"
      },
      "execution_count": null,
      "outputs": [
        {
          "output_type": "stream",
          "name": "stdout",
          "text": [
            "stack is empty\n",
            "pushed item onto the stack:10\n",
            "pushed item onto the stack:20\n",
            "pushed item onto the stack:30\n",
            "stack is full\n",
            "Stack elements (top to bottom) are:\n",
            "30\n",
            "20\n",
            "10\n",
            "Removed ftom top: 30\n",
            "popped item:30\n",
            "Stack elements (top to bottom) are:\n",
            "20\n",
            "10\n",
            "Removed ftom top: 20\n",
            "Stack elements (top to bottom) are:\n",
            "10\n"
          ]
        }
      ]
    }
  ]
}