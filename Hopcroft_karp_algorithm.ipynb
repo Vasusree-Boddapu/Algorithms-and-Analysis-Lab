{
  "nbformat": 4,
  "nbformat_minor": 0,
  "metadata": {
    "colab": {
      "provenance": [],
      "authorship_tag": "ABX9TyP0AIW32ESaLIuCaBon5AEu",
      "include_colab_link": true
    },
    "kernelspec": {
      "name": "python3",
      "display_name": "Python 3"
    },
    "language_info": {
      "name": "python"
    }
  },
  "cells": [
    {
      "cell_type": "markdown",
      "metadata": {
        "id": "view-in-github",
        "colab_type": "text"
      },
      "source": [
        "<a href=\"https://colab.research.google.com/github/Vasusree-Boddapu/Algorithms-and-Analysis-Lab/blob/main/Hopcroft_karp_algorithm.ipynb\" target=\"_parent\"><img src=\"https://colab.research.google.com/assets/colab-badge.svg\" alt=\"Open In Colab\"/></a>"
      ]
    },
    {
      "cell_type": "code",
      "execution_count": 5,
      "metadata": {
        "colab": {
          "base_uri": "https://localhost:8080/"
        },
        "id": "y3BaRyQh-7rp",
        "outputId": "8b7de6cb-39ad-4e43-ad3a-0f7c1b47731c"
      },
      "outputs": [
        {
          "output_type": "stream",
          "name": "stdout",
          "text": [
            "Maximum matching size: 3\n"
          ]
        }
      ],
      "source": [
        "from collections import deque\n",
        "INF = float('inf')\n",
        "NIL = -1\n",
        "def bfs(adj, pair_u, pair_v, dist, m):\n",
        " queue = deque()\n",
        " for u in range(m):\n",
        "   if pair_u[u] == NIL:\n",
        "      dist[u] = 0\n",
        "      queue.append(u)\n",
        "   else:\n",
        "         dist[u] = INF\n",
        " found_augmenting_path = False\n",
        " while queue:\n",
        "       u = queue.popleft()\n",
        " for v in adj[u]:\n",
        "       if pair_v[v] == NIL:\n",
        "          found_augmenting_path = True\n",
        "       elif dist[pair_v[v]] == INF:\n",
        "            dist[pair_v[v]] = dist[u] + 1\n",
        "            queue.append(pair_v[v])\n",
        " return found_augmenting_path\n",
        "\n",
        "def dfs(u, adj, pair_u, pair_v, dist):\n",
        " for v in adj[u]:\n",
        "    stmt1 = (pair_v[v] == NIL)\n",
        " stmt2 = (dist[pair_v[v]] == dist[u] + 1 and dfs(pair_v[v],\n",
        "adj, pair_u, pair_v, dist))\n",
        " if stmt1 or stmt2:\n",
        "    pair_u[u] = v\n",
        "    pair_v[v] = u\n",
        " return True\n",
        " dist[u] = INF\n",
        " return False\n",
        "def hopcroft_karp(m, n, edges):\n",
        " adj = [[] for _ in range(m)]\n",
        " for u, v in edges:\n",
        "     adj[u].append(v)\n",
        "     pair_u = [NIL] * m\n",
        "     pair_v = [NIL] * n\n",
        "     dist = [INF] * m\n",
        "     matching = 0\n",
        " while bfs(adj, pair_u, pair_v, dist, m):\n",
        "    for u in range(m):\n",
        "      if pair_u[u] == NIL and dfs(u, adj, pair_u, pair_v, dist):\n",
        "         matching += 1\n",
        " return matching\n",
        "# Example usage\n",
        "m, n = 3, 3\n",
        "edges = [\n",
        " (0, 0), # U1 to V1\n",
        " (0, 1), # U1 to V2\n",
        " (1, 0), # U2 to V1\n",
        " (2, 2), # U3 to V3\n",
        "]\n",
        "print(\"Maximum matching size:\", hopcroft_karp(m, n, edges))"
      ]
    }
  ]
}