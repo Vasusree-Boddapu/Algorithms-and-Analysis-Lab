{
  "nbformat": 4,
  "nbformat_minor": 0,
  "metadata": {
    "colab": {
      "provenance": []
    },
    "kernelspec": {
      "name": "python3",
      "display_name": "Python 3"
    },
    "language_info": {
      "name": "python"
    }
  },
  "cells": [
    {
      "cell_type": "code",
      "execution_count": 1,
      "metadata": {
        "colab": {
          "base_uri": "https://localhost:8080/"
        },
        "id": "Gslk4EvkTtsE",
        "outputId": "b44bde61-93d9-4519-e811-02f266265e31"
      },
      "outputs": [
        {
          "output_type": "stream",
          "name": "stdout",
          "text": [
            "topological sorting of graph:542310"
          ]
        }
      ],
      "source": [
        "#Implemetation of topological sort\n",
        "def topologicalSortutil(v,adj,visited,stack):\n",
        "  visited[v] = True\n",
        "  for i in adj[v]:\n",
        "    if not visited[i]:\n",
        "      topologicalSortutil(i, adj, visited, stack)\n",
        "  stack.append(v)\n",
        "\n",
        "def topologicalsort(adj,v):\n",
        "  stack=[]\n",
        "  visited=[False]*v\n",
        "  for i in range(v):\n",
        "    if not visited[i]:\n",
        "      topologicalSortutil(i,adj,visited,stack)\n",
        "  print(\"topological sorting of graph:\",end=\"\")\n",
        "  while stack:\n",
        "    print(stack.pop(),end=\"\")\n",
        "\n",
        "v=6\n",
        "edges = [[5, 0], [4, 0], [4, 1],[3, 1], [2, 3], [5, 2]]\n",
        "adj=[[]for _ in range(v)]\n",
        "for i in edges:\n",
        "  adj[i[0]].append(i[1])\n",
        "topologicalsort(adj,v)"
      ]
    },
    {
      "cell_type": "code",
      "source": [
        "# Implementation of Khan's topological sort using BFS\n",
        "from collections import deque\n",
        "V=6\n",
        "edges = [[5, 0], [4, 0], [4, 1],[3, 1], [2, 3], [5, 2]]\n",
        "\n",
        "def kahns_topologicalsort(V, edges):\n",
        "  adj = [[] for _ in range(V)]\n",
        "  in_degree = [0] * V\n",
        "  for u,v in edges:\n",
        "    adj[u].append(v)\n",
        "    in_degree[v] += 1\n",
        "  print(\"in degree\", in_degree)\n",
        "  queue = deque([i for i in range(V) if in_degree[i] == 0])\n",
        "  top_order = []\n",
        "  while queue:\n",
        "    u = queue.popleft()\n",
        "    top_order.append(u)\n",
        "    for neighbor  in adj[u]:\n",
        "      in_degree[neighbor] -= 1\n",
        "      if in_degree[neighbor]==0:\n",
        "        queue.append(neighbor)\n",
        "  if len(top_order) == V:\n",
        "    return top_order\n",
        "  else:\n",
        "    return \"graph has a cycle, topological sort not possible.\"\n",
        "result = kahns_topologicalsort(V, edges)\n",
        "print(\"topological sort order\", result)"
      ],
      "metadata": {
        "colab": {
          "base_uri": "https://localhost:8080/"
        },
        "id": "WW3R4EsmTzYe",
        "outputId": "c867b913-1c6c-448a-f2ce-f18999e107a7"
      },
      "execution_count": 2,
      "outputs": [
        {
          "output_type": "stream",
          "name": "stdout",
          "text": [
            "in degree [2, 2, 1, 1, 0, 0]\n",
            "topological sort order [4, 5, 0, 2, 3, 1]\n"
          ]
        }
      ]
    },
    {
      "cell_type": "code",
      "source": [
        "# implemention of topological sort using dfs with cycle detection\n",
        "def topologicalSortUtil(v, adj, visited, recStack, stack):\n",
        "    visited[v] = True\n",
        "    recStack[v] = True  # Mark current node in recursion stack\n",
        "\n",
        "    for neighbor in adj[v]:\n",
        "        if not visited[neighbor]:\n",
        "            if not topologicalSortUtil(neighbor, adj, visited, recStack, stack):\n",
        "                return False\n",
        "        elif recStack[neighbor]:\n",
        "            # Cycle detected\n",
        "            return False\n",
        "\n",
        "    recStack[v] = False  # Remove the node from recursion stack\n",
        "    stack.append(v)\n",
        "    return True\n",
        "\n",
        "def topologicalSort(adj, v):\n",
        "    stack = []\n",
        "    visited = [False] * v\n",
        "    recStack = [False] * v\n",
        "\n",
        "    for i in range(v):\n",
        "        if not visited[i]:\n",
        "            if not topologicalSortUtil(i, adj, visited, recStack, stack):\n",
        "                print(\"Cycle detected. Topological sort not possible.\")\n",
        "                return\n",
        "\n",
        "    print(\"Topological sorting of graph: \", end=\"\")\n",
        "    while stack:\n",
        "        print(stack.pop(), end=\" \")\n",
        "\n",
        "v = 6\n",
        "edges = [[5, 0], [4, 0], [4, 1], [3, 1], [2, 3], [5, 2],[0,5]]\n",
        "adj = [[] for _ in range(v)]\n",
        "for u, w in edges:\n",
        "    adj[u].append(w)\n",
        "\n",
        "topologicalSort(adj, v)\n"
      ],
      "metadata": {
        "colab": {
          "base_uri": "https://localhost:8080/"
        },
        "id": "oI22eow_dsO4",
        "outputId": "9ba0f47d-bcaa-4159-e486-087086a2ac8c"
      },
      "execution_count": 3,
      "outputs": [
        {
          "output_type": "stream",
          "name": "stdout",
          "text": [
            "Cycle detected. Topological sort not possible.\n"
          ]
        }
      ]
    }
  ]
}